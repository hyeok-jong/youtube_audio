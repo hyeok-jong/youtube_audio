{
 "cells": [
  {
   "cell_type": "code",
   "execution_count": 6,
   "metadata": {},
   "outputs": [
    {
     "name": "stdout",
     "output_type": "stream",
     "text": [
      "[youtube] Extracting URL: https://www.youtube.com/watch?v=aEW1dSG8BbQ\n",
      "[youtube] aEW1dSG8BbQ: Downloading webpage\n",
      "[youtube] aEW1dSG8BbQ: Downloading ios player API JSON\n",
      "[youtube] aEW1dSG8BbQ: Downloading android player API JSON\n",
      "[youtube] aEW1dSG8BbQ: Downloading m3u8 information\n",
      "[youtube] Extracting URL: https://www.youtube.com/watch?v=aEW1dSG8BbQ\n",
      "[youtube] aEW1dSG8BbQ: Downloading webpage\n",
      "[youtube] aEW1dSG8BbQ: Downloading ios player API JSON\n",
      "[youtube] aEW1dSG8BbQ: Downloading android player API JSON\n",
      "[youtube] aEW1dSG8BbQ: Downloading m3u8 information\n",
      "[info] aEW1dSG8BbQ: Downloading 1 format(s): 251\n",
      "[download] Destination: /var/folders/8k/r0d3yy9x5mx8k7cz_3wn_1km0000gn/T/tmpz9bi9xv6/aEW1dSG8BbQ.webm\n",
      "[download] 100% of    5.19MiB in 00:00:00 at 23.20MiB/s    \n",
      "[ExtractAudio] Destination: /var/folders/8k/r0d3yy9x5mx8k7cz_3wn_1km0000gn/T/tmpz9bi9xv6/aEW1dSG8BbQ.mp3\n",
      "Deleting original file /var/folders/8k/r0d3yy9x5mx8k7cz_3wn_1km0000gn/T/tmpz9bi9xv6/aEW1dSG8BbQ.webm (pass -k to keep)\n",
      "Audio downloaded and saved as output.mp3\n"
     ]
    }
   ],
   "source": [
    "import io\n",
    "import subprocess\n",
    "import sys\n",
    "import tempfile\n",
    "import os\n",
    "\n",
    "def install_yt_dlp():\n",
    "    subprocess.check_call([sys.executable, \"-m\", \"pip\", \"install\", \"yt-dlp\"])\n",
    "\n",
    "try:\n",
    "    import yt_dlp\n",
    "except ImportError:\n",
    "    install_yt_dlp()\n",
    "    import yt_dlp\n",
    "\n",
    "def download_youtube_audio(url):\n",
    "    try:\n",
    "        # 임시 디렉토리를 생성하여 파일을 저장\n",
    "        with tempfile.TemporaryDirectory() as tmpdirname:\n",
    "            ydl_opts = {\n",
    "                'format': 'bestaudio/best',\n",
    "                'postprocessors': [{\n",
    "                    'key': 'FFmpegExtractAudio',\n",
    "                    'preferredcodec': 'mp3',\n",
    "                    'preferredquality': '192',\n",
    "                }],\n",
    "                'outtmpl': os.path.join(tmpdirname, '%(id)s.%(ext)s'),\n",
    "                'noplaylist': True,\n",
    "                'keepvideo': True,  # 원본 파일 유지\n",
    "            }\n",
    "            \n",
    "            with yt_dlp.YoutubeDL(ydl_opts) as ydl:\n",
    "                info_dict = ydl.extract_info(url, download=False)\n",
    "                ydl.download([url])\n",
    "                mp3_filename = ydl.prepare_filename(info_dict).replace('.webm', '.mp3')\n",
    "                mp3_filepath = os.path.join(tmpdirname, mp3_filename)\n",
    "\n",
    "                # 다운로드된 파일을 메모리로 로드\n",
    "                audio_mp3_stream = io.BytesIO()\n",
    "                with open(mp3_filepath, 'rb') as f:\n",
    "                    audio_mp3_stream.write(f.read())\n",
    "                audio_mp3_stream.seek(0)\n",
    "\n",
    "                # 원본 파일과 mp3 파일 삭제\n",
    "                os.remove(mp3_filepath)\n",
    "                os.remove(mp3_filepath.replace('.mp3', '.webm'))\n",
    "        \n",
    "        return audio_mp3_stream\n",
    "\n",
    "    except Exception as e:\n",
    "        print(f\"An error occurred: {e}\")\n",
    "        return None\n",
    "\n",
    "# 테스트 함수\n",
    "audio_stream = download_youtube_audio('https://www.youtube.com/watch?v=ZQXq4Kv5ppQ')\n",
    "if audio_stream:\n",
    "    with open(\"output.mp3\", \"wb\") as f:\n",
    "        f.write(audio_stream.read())\n",
    "    print(\"오디오가 성공적으로 다운로드되어 output.mp3로 저장되었습니다.\")\n",
    "else:\n",
    "    print(\"오디오 다운로드에 실패했습니다.\")\n"
   ]
  },
  {
   "cell_type": "code",
   "execution_count": null,
   "metadata": {},
   "outputs": [],
   "source": []
  }
 ],
 "metadata": {
  "kernelspec": {
   "display_name": "youtube",
   "language": "python",
   "name": "python3"
  },
  "language_info": {
   "codemirror_mode": {
    "name": "ipython",
    "version": 3
   },
   "file_extension": ".py",
   "mimetype": "text/x-python",
   "name": "python",
   "nbconvert_exporter": "python",
   "pygments_lexer": "ipython3",
   "version": "3.12.3"
  },
  "orig_nbformat": 4,
  "vscode": {
   "interpreter": {
    "hash": "bc9173145e27d501be6e93be96d222b2ce61d0ca0cf520c3e9ee220c47d2a1e1"
   }
  }
 },
 "nbformat": 4,
 "nbformat_minor": 2
}
