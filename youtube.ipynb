{
 "cells": [
  {
   "cell_type": "code",
   "execution_count": 8,
   "metadata": {},
   "outputs": [
    {
     "name": "stdout",
     "output_type": "stream",
     "text": [
      "[youtube] Extracting URL: https://www.youtube.com/watch?v=aEW1dSG8BbQ\n",
      "[youtube] aEW1dSG8BbQ: Downloading webpage\n",
      "[youtube] aEW1dSG8BbQ: Downloading ios player API JSON\n",
      "[youtube] aEW1dSG8BbQ: Downloading android player API JSON\n",
      "[youtube] aEW1dSG8BbQ: Downloading m3u8 information\n",
      "[youtube] Extracting URL: https://www.youtube.com/watch?v=aEW1dSG8BbQ\n",
      "[youtube] aEW1dSG8BbQ: Downloading webpage\n",
      "[youtube] aEW1dSG8BbQ: Downloading ios player API JSON\n",
      "[youtube] aEW1dSG8BbQ: Downloading android player API JSON\n",
      "[youtube] aEW1dSG8BbQ: Downloading m3u8 information\n",
      "[info] aEW1dSG8BbQ: Downloading 1 format(s): 251\n",
      "[download] Destination: aEW1dSG8BbQ.webm\n",
      "[download] 100% of    5.19MiB in 00:00:00 at 5.59MiB/s   \n",
      "[ExtractAudio] Destination: aEW1dSG8BbQ.mp3\n",
      "Deleting original file aEW1dSG8BbQ.webm (pass -k to keep)\n",
      "An error occurred: [Errno 2] No such file or directory: 'aEW1dSG8BbQ.webm'\n",
      "Failed to download audio.\n"
     ]
    }
   ],
   "source": [
    "import io\n",
    "import subprocess\n",
    "import sys\n",
    "from pydub import AudioSegment\n",
    "\n",
    "def install_yt_dlp():\n",
    "    subprocess.check_call([sys.executable, \"-m\", \"pip\", \"install\", \"yt-dlp\"])\n",
    "\n",
    "try:\n",
    "    import yt_dlp\n",
    "except ImportError:\n",
    "    install_yt_dlp()\n",
    "    import yt_dlp\n",
    "\n",
    "def download_youtube_audio(url):\n",
    "    try:\n",
    "        # Use yt-dlp to download the audio\n",
    "        ydl_opts = {\n",
    "            'format': 'bestaudio/best',\n",
    "            'postprocessors': [{\n",
    "                'key': 'FFmpegExtractAudio',\n",
    "                'preferredcodec': 'mp3',\n",
    "                'preferredquality': '192',\n",
    "            }],\n",
    "            'outtmpl': '%(id)s.%(ext)s',\n",
    "            'noplaylist': True,\n",
    "        }\n",
    "        \n",
    "        with yt_dlp.YoutubeDL(ydl_opts) as ydl:\n",
    "            info_dict = ydl.extract_info(url, download=False)\n",
    "            file_name = ydl.prepare_filename(info_dict)\n",
    "            ydl.download([url])\n",
    "\n",
    "        # Load the downloaded file into memory\n",
    "        audio_mp3_stream = io.BytesIO()\n",
    "        with open(file_name, 'rb') as f:\n",
    "            audio_mp3_stream.write(f.read())\n",
    "        audio_mp3_stream.seek(0)\n",
    "\n",
    "        return audio_mp3_stream\n",
    "\n",
    "    except Exception as e:\n",
    "        print(f\"An error occurred: {e}\")\n",
    "        return None\n",
    "\n",
    "# Test the function\n",
    "audio_stream = download_youtube_audio('https://www.youtube.com/watch?v=aEW1dSG8BbQ')\n",
    "if audio_stream:\n",
    "    with open(\"output.mp3\", \"wb\") as f:\n",
    "        f.write(audio_stream.read())\n",
    "    print(\"Audio downloaded and saved as output.mp3\")\n",
    "else:\n",
    "    print(\"Failed to download audio.\")\n"
   ]
  },
  {
   "cell_type": "code",
   "execution_count": null,
   "metadata": {},
   "outputs": [],
   "source": [
    "def save_audio_stream(audio_stream, output_path):\n",
    "    with open(output_path, 'wb') as f:\n",
    "        f.write(audio_stream.read())"
   ]
  }
 ],
 "metadata": {
  "kernelspec": {
   "display_name": "youtube",
   "language": "python",
   "name": "python3"
  },
  "language_info": {
   "codemirror_mode": {
    "name": "ipython",
    "version": 3
   },
   "file_extension": ".py",
   "mimetype": "text/x-python",
   "name": "python",
   "nbconvert_exporter": "python",
   "pygments_lexer": "ipython3",
   "version": "3.12.3"
  },
  "orig_nbformat": 4,
  "vscode": {
   "interpreter": {
    "hash": "bc9173145e27d501be6e93be96d222b2ce61d0ca0cf520c3e9ee220c47d2a1e1"
   }
  }
 },
 "nbformat": 4,
 "nbformat_minor": 2
}
