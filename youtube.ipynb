{
 "cells": [
  {
   "cell_type": "code",
   "execution_count": 2,
   "metadata": {},
   "outputs": [],
   "source": [
    "#!pip install pytube pydub\n"
   ]
  },
  {
   "cell_type": "code",
   "execution_count": 3,
   "metadata": {},
   "outputs": [
    {
     "name": "stdout",
     "output_type": "stream",
     "text": [
      "Audio extracted and saved to: /Users/dl/git/youtube/./모든 날 모든 순간 Every day Every Moment (Instrumental).mp3\n"
     ]
    }
   ],
   "source": [
    "from pytube import YouTube\n",
    "from pydub import AudioSegment\n",
    "import os\n",
    "\n",
    "def download_youtube_audio(url, output_path):\n",
    "    # Download the video\n",
    "    yt = YouTube(url)\n",
    "    video = yt.streams.filter(only_audio=True).first()\n",
    "    downloaded_file = video.download(output_path=output_path)\n",
    "\n",
    "    # Extract audio\n",
    "    base, ext = os.path.splitext(downloaded_file)\n",
    "    audio_file = base + '.mp3'\n",
    "\n",
    "    # Convert to MP3 using pydub\n",
    "    audio = AudioSegment.from_file(downloaded_file)\n",
    "    audio.export(audio_file, format=\"mp3\")\n",
    "\n",
    "    # Remove the original file\n",
    "    os.remove(downloaded_file)\n",
    "    \n",
    "    return audio_file\n",
    "\n",
    "# Example usage\n",
    "youtube_url = 'https://www.youtube.com/watch?v=ZQXq4Kv5ppQ'\n",
    "output_directory = './'\n",
    "audio_file_path = download_youtube_audio(youtube_url, output_directory)\n",
    "print(f\"Audio extracted and saved to: {audio_file_path}\")\n"
   ]
  },
  {
   "cell_type": "code",
   "execution_count": null,
   "metadata": {},
   "outputs": [],
   "source": []
  }
 ],
 "metadata": {
  "kernelspec": {
   "display_name": "local",
   "language": "python",
   "name": "python3"
  },
  "language_info": {
   "codemirror_mode": {
    "name": "ipython",
    "version": 3
   },
   "file_extension": ".py",
   "mimetype": "text/x-python",
   "name": "python",
   "nbconvert_exporter": "python",
   "pygments_lexer": "ipython3",
   "version": "3.8.13"
  },
  "orig_nbformat": 4,
  "vscode": {
   "interpreter": {
    "hash": "b6221d25c49508bbd06eefa700aaca06effc8dd1c8b9357bdab3dcfac1dd50f1"
   }
  }
 },
 "nbformat": 4,
 "nbformat_minor": 2
}
